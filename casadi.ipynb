{
 "cells": [
  {
   "cell_type": "code",
   "execution_count": 1,
   "metadata": {},
   "outputs": [],
   "source": [
    "from casadi import *\n",
    "import numpy as np"
   ]
  },
  {
   "cell_type": "code",
   "execution_count": 2,
   "metadata": {},
   "outputs": [],
   "source": [
    "T = 5. # Time horizon\n",
    "N = 100 # number of control intervals\n",
    "tau_theta = 10*np.random.uniform()\n",
    "tau_phi = 10*np.random.uniform()\n",
    "lam = 100\n",
    "init1 = np.pi/20*np.random.normal()\n",
    "init2 = np.pi/20*np.random.normal()\n",
    "\n",
    "# Declare model variables\n",
    "x1 = MX.sym('x1')\n",
    "x2 = MX.sym('x2')\n",
    "x = vertcat(x1, x2)\n",
    "u = MX.sym('u')\n",
    "\n",
    "# Model equations\n",
    "xdot = vertcat(-x1/tau_theta, -u*x2+x1/tau_phi)\n",
    "\n",
    "# Objective term\n",
    "L = (x1+x1)**2+lam*u**2"
   ]
  },
  {
   "cell_type": "code",
   "execution_count": 3,
   "metadata": {},
   "outputs": [],
   "source": [
    "# Formulate discrete time dynamics\n",
    "if False:\n",
    "    # CVODES from the SUNDIALS suite\n",
    "    dae = {'x':x, 'p':u, 'ode':xdot, 'quad':L}\n",
    "    opts = {'tf':T/N}\n",
    "    F = integrator('F', 'cvodes', dae, opts)\n",
    "else:\n",
    "    # Fixed step Runge-Kutta 4 integrator\n",
    "    M = 4 # RK4 steps per interval\n",
    "    DT = T/N/M\n",
    "    f = Function('f', [x, u], [xdot, L])\n",
    "    X0 = MX.sym('X0', 2)\n",
    "    U = MX.sym('U')\n",
    "    X = X0\n",
    "    Q = 0\n",
    "    for j in range(M):\n",
    "        k1, k1_q = f(X, U)\n",
    "        k2, k2_q = f(X + DT/2 * k1, U)\n",
    "        k3, k3_q = f(X + DT/2 * k2, U)\n",
    "        k4, k4_q = f(X + DT * k3, U)\n",
    "        X=X+DT/6*(k1 +2*k2 +2*k3 +k4)\n",
    "        Q = Q + DT/6*(k1_q + 2*k2_q + 2*k3_q + k4_q)\n",
    "    F = Function('F', [X0, U], [X, Q],['x0','p'],['xf','qf'])"
   ]
  },
  {
   "cell_type": "code",
   "execution_count": 4,
   "metadata": {},
   "outputs": [],
   "source": [
    "# Start with an empty NLP\n",
    "w=[]\n",
    "w0 = []\n",
    "lbw = []\n",
    "ubw = []\n",
    "J = 0\n",
    "g = []\n",
    "lbg = []\n",
    "ubg = []\n",
    "\n",
    "# Formulate the NLP\n",
    "Xk = MX([init1, init2])\n",
    "for k in range(N):\n",
    "    # New NLP variable for the control\n",
    "    Uk = MX.sym('U_' + str(k))\n",
    "    w += [Uk]\n",
    "    lbw += [-2*np.pi]\n",
    "    ubw += [2*np.pi]\n",
    "    w0 += [0]\n",
    "\n",
    "    # Integrate till the end of the interval\n",
    "    Fk = F(x0=Xk, p=Uk)\n",
    "    Xk = Fk['xf']\n",
    "    J=J+Fk['qf']\n",
    "\n",
    "    # Add inequality constraint\n",
    "    g += [Xk[0]]\n",
    "    lbg += [-2*np.pi]\n",
    "    ubg += [2*np.pi]"
   ]
  },
  {
   "cell_type": "code",
   "execution_count": 15,
   "metadata": {},
   "outputs": [
    {
     "name": "stdout",
     "output_type": "stream",
     "text": [
      "This is Ipopt version 3.12.3, running with linear solver mumps.\n",
      "NOTE: Other linear solvers might be more efficient (see Ipopt documentation).\n",
      "\n",
      "Number of nonzeros in equality constraint Jacobian...:        0\n",
      "Number of nonzeros in inequality constraint Jacobian.:        0\n",
      "Number of nonzeros in Lagrangian Hessian.............:     5050\n",
      "\n",
      "Total number of variables............................:      100\n",
      "                     variables with only lower bounds:        0\n",
      "                variables with lower and upper bounds:      100\n",
      "                     variables with only upper bounds:        0\n",
      "Total number of equality constraints.................:        0\n",
      "Total number of inequality constraints...............:      100\n",
      "        inequality constraints with only lower bounds:        0\n",
      "   inequality constraints with lower and upper bounds:      100\n",
      "        inequality constraints with only upper bounds:        0\n",
      "\n",
      "iter    objective    inf_pr   inf_du lg(mu)  ||d||  lg(rg) alpha_du alpha_pr  ls\n",
      "   0  1.3461272e-02 0.00e+00 0.00e+00  -1.0 0.00e+00    -  0.00e+00 0.00e+00   0\n",
      "   1  1.3461272e-02 0.00e+00 0.00e+00  -1.0 0.00e+00    -  1.00e+00 1.00e+00   0\n",
      "   2  1.3461272e-02 0.00e+00 0.00e+00  -2.5 0.00e+00    -  1.00e+00 1.00e+00T  0\n",
      "   3  1.3461272e-02 0.00e+00 0.00e+00  -3.8 0.00e+00    -  1.00e+00 1.00e+00T  0\n",
      "   4  1.3461272e-02 0.00e+00 0.00e+00  -5.7 0.00e+00    -  1.00e+00 1.00e+00T  0\n",
      "   5  1.3461272e-02 0.00e+00 3.85e-23  -8.6 0.00e+00    -  1.00e+00 1.00e+00T  0\n",
      "\n",
      "Number of Iterations....: 5\n",
      "\n",
      "                                   (scaled)                 (unscaled)\n",
      "Objective...............:   1.3461272101639880e-02    1.3461272101639880e-02\n",
      "Dual infeasibility......:   3.8463898483715787e-23    3.8463898483715787e-23\n",
      "Constraint violation....:   0.0000000000000000e+00    0.0000000000000000e+00\n",
      "Complementarity.........:   2.5059035596803927e-09    2.5059035596803927e-09\n",
      "Overall NLP error.......:   2.5059035596803927e-09    2.5059035596803927e-09\n",
      "\n",
      "\n",
      "Number of objective function evaluations             = 6\n",
      "Number of objective gradient evaluations             = 6\n",
      "Number of equality constraint evaluations            = 0\n",
      "Number of inequality constraint evaluations          = 6\n",
      "Number of equality constraint Jacobian evaluations   = 0\n",
      "Number of inequality constraint Jacobian evaluations = 6\n",
      "Number of Lagrangian Hessian evaluations             = 5\n",
      "Total CPU secs in IPOPT (w/o function evaluations)   =      0.011\n",
      "Total CPU secs in NLP function evaluations           =      0.182\n",
      "\n",
      "EXIT: Optimal Solution Found.\n",
      "      solver  :   t_proc      (avg)   t_wall      (avg)    n_eval\n",
      "       nlp_f  |   5.59ms (931.33us)   5.52ms (920.00us)         6\n",
      "       nlp_g  |   5.09ms (848.33us)   4.73ms (787.67us)         6\n",
      "  nlp_grad_f  |  16.87ms (  2.41ms)  16.90ms (  2.41ms)         7\n",
      "  nlp_hess_l  | 153.53ms ( 30.71ms) 153.61ms ( 30.72ms)         5\n",
      "   nlp_jac_g  |   5.02ms (716.86us)   5.02ms (716.57us)         7\n",
      "       total  | 196.72ms (196.72ms) 195.16ms (195.16ms)         1\n"
     ]
    }
   ],
   "source": [
    "# Create an NLP solver\n",
    "prob = {'f': J, 'x': vertcat(*w), 'g': vertcat(*g)}\n",
    "solver = nlpsol('solver', 'ipopt', prob)\n",
    "\n",
    "# Solve the NLP\n",
    "sol = solver(x0=w0, lbx=lbw, ubx=ubw, lbg=lbg, ubg=ubg)\n",
    "# w_opt = sol['x']"
   ]
  },
  {
   "cell_type": "code",
   "execution_count": 104,
   "metadata": {},
   "outputs": [
    {
     "data": {
      "image/png": "[encoded data removed]",
      "text/plain": [
       "<Figure size 432x288 with 1 Axes>"
      ]
     },
     "metadata": {
      "needs_background": "light"
     },
     "output_type": "display_data"
    }
   ],
   "source": [
    "# Plot the solution\n",
    "u_opt = w_opt\n",
    "x_opt = [[init1, init2]]\n",
    "for k in range(N):\n",
    "    Fk = F(x0=x_opt[-1], p=u_opt[k])\n",
    "    x_opt += [Fk['xf'].full()]\n",
    "x1_opt = [r[0] for r in x_opt]\n",
    "x2_opt = [r[1] for r in x_opt]\n",
    "\n",
    "tgrid = [T/N*k for k in range(N+1)]\n",
    "import matplotlib.pyplot as plt\n",
    "plt.figure(1)\n",
    "plt.clf()\n",
    "plt.plot(tgrid, x1_opt, '--')\n",
    "plt.plot(tgrid, x2_opt, '-')\n",
    "plt.step(tgrid, vertcat(DM.nan(1), u_opt), '-.')\n",
    "plt.xlabel('t')\n",
    "plt.legend(['x1','x2','u'])\n",
    "plt.grid()\n",
    "plt.show()"
   ]
  },
  {
   "cell_type": "code",
   "execution_count": null,
   "metadata": {},
   "outputs": [],
   "source": []
  },
  {
   "cell_type": "code",
   "execution_count": null,
   "metadata": {},
   "outputs": [],
   "source": []
  }
 ],
 "metadata": {
  "kernelspec": {
   "display_name": "Python 3",
   "language": "python",
   "name": "python3"
  },
  "language_info": {
   "codemirror_mode": {
    "name": "ipython",
    "version": 3
   },
   "file_extension": ".py",
   "mimetype": "text/x-python",
   "name": "python",
   "nbconvert_exporter": "python",
   "pygments_lexer": "ipython3",
   "version": "3.7.6"
  }
 },
 "nbformat": 4,
 "nbformat_minor": 4
}
