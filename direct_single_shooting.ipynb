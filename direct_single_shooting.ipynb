{
 "cells": [
  {
   "cell_type": "code",
   "execution_count": 3,
   "metadata": {},
   "outputs": [],
   "source": [
    "from casadi import *"
   ]
  },
  {
   "cell_type": "code",
   "execution_count": 4,
   "metadata": {},
   "outputs": [],
   "source": [
    "T = 10. # Time horizon\n",
    "N = 20 # number of control intervals\n",
    "\n",
    "# Declare model variables\n",
    "x1 = MX.sym('x1')\n",
    "x2 = MX.sym('x2')\n",
    "x = vertcat(x1, x2)\n",
    "u = MX.sym('u')"
   ]
  },
  {
   "cell_type": "code",
   "execution_count": 5,
   "metadata": {},
   "outputs": [],
   "source": [
    "# Model equations\n",
    "xdot = vertcat((1-x2**2)*x1 - x2 + u, x1)\n",
    "\n",
    "# Objective term\n",
    "L = x1**2 + x2**2 + u**2"
   ]
  },
  {
   "cell_type": "code",
   "execution_count": 6,
   "metadata": {},
   "outputs": [],
   "source": [
    "# Formulate discrete time dynamics\n",
    "if False:\n",
    "    # CVODES from the SUNDIALS suite\n",
    "    dae = {'x':x, 'p':u, 'ode':xdot, 'quad':L}\n",
    "    opts = {'tf':T/N}\n",
    "    F = integrator('F', 'cvodes', dae, opts)\n",
    "else:\n",
    "    # Fixed step Runge-Kutta 4 integrator\n",
    "    M = 4 # RK4 steps per interval\n",
    "    DT = T/N/M\n",
    "    f = Function('f', [x, u], [xdot, L])\n",
    "    X0 = MX.sym('X0', 2)\n",
    "    U = MX.sym('U')\n",
    "    X = X0\n",
    "    Q = 0\n",
    "    for j in range(M):\n",
    "        k1, k1_q = f(X, U)\n",
    "        k2, k2_q = f(X + DT/2 * k1, U)\n",
    "        k3, k3_q = f(X + DT/2 * k2, U)\n",
    "        k4, k4_q = f(X + DT * k3, U)\n",
    "        X=X+DT/6*(k1 +2*k2 +2*k3 +k4)\n",
    "        Q = Q + DT/6*(k1_q + 2*k2_q + 2*k3_q + k4_q)\n",
    "    F = Function('F', [X0, U], [X, Q],['x0','p'],['xf','qf'])"
   ]
  },
  {
   "cell_type": "code",
   "execution_count": 7,
   "metadata": {},
   "outputs": [
    {
     "name": "stdout",
     "output_type": "stream",
     "text": [
      "[0.335539, 0.434784]\n",
      "0.183287\n"
     ]
    }
   ],
   "source": [
    "# Evaluate at a test point\n",
    "Fk = F(x0=[0.2,0.3],p=0.4)\n",
    "print(Fk['xf'])\n",
    "print(Fk['qf'])"
   ]
  },
  {
   "cell_type": "code",
   "execution_count": 8,
   "metadata": {},
   "outputs": [],
   "source": [
    "# Start with an empty NLP\n",
    "w=[]\n",
    "w0 = []\n",
    "lbw = []\n",
    "ubw = []\n",
    "J = 0\n",
    "g=[]\n",
    "lbg = []\n",
    "ubg = []"
   ]
  },
  {
   "cell_type": "code",
   "execution_count": 9,
   "metadata": {},
   "outputs": [],
   "source": [
    "# Formulate the NLP\n",
    "Xk = MX([0, 1])\n",
    "for k in range(N):\n",
    "    # New NLP variable for the control\n",
    "    Uk = MX.sym('U_' + str(k))\n",
    "    w += [Uk]\n",
    "    lbw += [-1]\n",
    "    ubw += [1]\n",
    "    w0 += [0]\n",
    "\n",
    "    # Integrate till the end of the interval\n",
    "    Fk = F(x0=Xk, p=Uk)\n",
    "    Xk = Fk['xf']\n",
    "    J=J+Fk['qf']\n",
    "\n",
    "    # Add inequality constraint\n",
    "    g += [Xk[0]]\n",
    "    lbg += [-.25]\n",
    "    ubg += [inf]"
   ]
  },
  {
   "cell_type": "code",
   "execution_count": 16,
   "metadata": {},
   "outputs": [
    {
     "name": "stdout",
     "output_type": "stream",
     "text": [
      "This is Ipopt version 3.12.3, running with linear solver mumps.\n",
      "NOTE: Other linear solvers might be more efficient (see Ipopt documentation).\n",
      "\n",
      "Number of nonzeros in equality constraint Jacobian...:        0\n",
      "Number of nonzeros in inequality constraint Jacobian.:      210\n",
      "Number of nonzeros in Lagrangian Hessian.............:      210\n",
      "\n",
      "Total number of variables............................:       20\n",
      "                     variables with only lower bounds:        0\n",
      "                variables with lower and upper bounds:       20\n",
      "                     variables with only upper bounds:        0\n",
      "Total number of equality constraints.................:        0\n",
      "Total number of inequality constraints...............:       20\n",
      "        inequality constraints with only lower bounds:       20\n",
      "   inequality constraints with lower and upper bounds:        0\n",
      "        inequality constraints with only upper bounds:        0\n",
      "\n",
      "iter    objective    inf_pr   inf_du lg(mu)  ||d||  lg(rg) alpha_du alpha_pr  ls\n",
      "   0  3.6096735e+01 2.08e+00 1.91e+00  -1.0 0.00e+00    -  0.00e+00 0.00e+00   0\n",
      "   1  3.4038913e+01 2.00e+00 5.66e+00  -1.0 4.69e+00    -  1.77e-01 3.47e-02f  1\n",
      "   2  2.5655221e+01 1.67e+00 8.92e+00  -1.0 6.52e+00    -  2.26e-01 1.27e-01f  1\n",
      "   3  2.5386257e+01 1.66e+00 3.23e+01  -1.0 3.31e+00    -  2.42e-02 7.55e-03h  1\n",
      "   4  2.3962661e+01 1.62e+00 1.15e+01  -1.0 1.27e+01    -  2.20e-03 2.25e-02f  1\n",
      "   5  2.3927190e+01 1.61e+00 2.17e+03  -1.0 3.31e+00    -  9.12e-02 9.39e-04h  1\n",
      "   6  2.3897861e+01 1.61e+00 3.88e+05  -1.0 3.82e+00    -  1.34e-01 7.63e-04h  1\n",
      "   7r 2.3897861e+01 1.61e+00 1.00e+03   0.2 0.00e+00    -  0.00e+00 2.56e-07R  6\n",
      "   8r 2.3116750e+01 1.56e+00 1.00e+03   0.2 4.54e+02    -  5.10e-03 2.62e-04f  1\n",
      "   9r 2.1624860e+01 1.00e+00 1.00e+03   0.2 1.91e+02    -  4.99e-03 4.31e-03f  1\n",
      "iter    objective    inf_pr   inf_du lg(mu)  ||d||  lg(rg) alpha_du alpha_pr  ls\n",
      "  10r 2.0562762e+01 9.59e-01 9.95e+02   0.2 5.57e+00   2.0 5.22e-02 1.44e-02f  1\n",
      "  11r 2.7029473e+01 1.58e+00 9.89e+02   0.2 4.12e+01   1.5 1.01e-02 1.92e-02f  1\n",
      "  12r 2.7553019e+01 1.57e+00 9.76e+02   0.2 1.62e+01   1.0 3.14e-02 4.17e-03f  1\n",
      "  13r 3.0294831e+01 1.49e+00 9.55e+02   0.2 2.76e+01   0.6 7.84e-02 2.12e-02f  1\n",
      "  14r 3.0646626e+01 1.43e+00 9.09e+02   0.2 8.97e+00    -  4.24e-02 4.78e-02f  1\n",
      "  15r 3.0084342e+01 1.40e+00 8.89e+02   0.2 3.91e+00    -  1.13e-01 1.98e-02f  1\n",
      "  16r 2.8815650e+01 1.36e+00 8.68e+02   0.2 1.10e+01    -  7.42e-02 2.24e-02f  1\n",
      "  17r 2.5813229e+01 1.29e+00 8.25e+02   0.2 3.02e+01    -  2.53e-03 5.18e-02f  1\n",
      "  18r 2.4623719e+01 1.25e+00 8.00e+02   0.2 1.24e+01    -  1.90e-02 3.13e-02f  1\n",
      "  19r 2.1724379e+01 1.14e+00 7.71e+02   0.2 1.09e+01    -  1.37e-02 5.03e-02f  1\n",
      "iter    objective    inf_pr   inf_du lg(mu)  ||d||  lg(rg) alpha_du alpha_pr  ls\n",
      "  20r 1.9897974e+01 1.07e+00 7.29e+02   0.2 6.92e+00    -  5.46e-02 4.76e-02f  1\n",
      "  21r 1.8949726e+01 1.02e+00 6.85e+02   0.2 3.02e+00    -  9.54e-02 3.26e-02f  1\n",
      "  22r 1.0678820e+01 4.62e-01 7.15e+02   0.2 2.24e+00    -  1.02e-01 2.94e-01f  1\n",
      "  23  7.5638180e+00 2.59e-01 2.57e+01  -1.0 6.56e-01    -  5.22e-02 2.38e-01f  1\n",
      "  24  5.9696086e+00 1.66e-01 8.21e+00  -1.0 3.89e-01    -  3.77e-01 2.85e-01f  1\n",
      "  25  4.6625843e+00 0.00e+00 1.33e+01  -1.0 8.80e-01    -  2.71e-01 1.00e+00f  1\n",
      "  26  4.2018547e+00 0.00e+00 3.09e+00  -1.0 4.12e-01    -  1.00e+00 1.00e+00h  1\n",
      "  27  4.1678646e+00 0.00e+00 4.14e-03  -1.0 1.99e-01    -  1.00e+00 1.00e+00h  1\n",
      "  28  3.8705986e+00 0.00e+00 3.19e+00  -2.5 9.96e-02    -  9.32e-01 1.00e+00f  1\n",
      "  29  3.7672987e+00 0.00e+00 1.16e+00  -2.5 6.69e-02    -  1.00e+00 1.00e+00h  1\n",
      "iter    objective    inf_pr   inf_du lg(mu)  ||d||  lg(rg) alpha_du alpha_pr  ls\n",
      "  30  3.7499062e+00 0.00e+00 5.26e-02  -2.5 1.66e-02    -  1.00e+00 1.00e+00h  1\n",
      "  31  3.7492488e+00 0.00e+00 2.76e-04  -2.5 2.38e-03    -  1.00e+00 1.00e+00h  1\n",
      "  32  3.7348622e+00 0.00e+00 3.94e-02  -3.8 1.04e-02    -  1.00e+00 1.00e+00f  1\n",
      "  33  3.7339024e+00 0.00e+00 5.27e-04  -3.8 2.81e-03    -  1.00e+00 1.00e+00h  1\n",
      "  34  3.7329896e+00 0.00e+00 2.25e-04  -5.7 1.05e-03    -  1.00e+00 1.00e+00h  1\n",
      "  35  3.7329805e+00 0.00e+00 1.03e-07  -5.7 5.54e-05    -  1.00e+00 1.00e+00h  1\n",
      "  36  3.7329694e+00 0.00e+00 3.19e-08  -8.6 1.12e-05    -  1.00e+00 1.00e+00h  1\n",
      "  37  3.7329694e+00 0.00e+00 1.04e-12  -8.6 6.81e-09    -  1.00e+00 1.00e+00h  1\n",
      "\n",
      "Number of Iterations....: 37\n",
      "\n",
      "                                   (scaled)                 (unscaled)\n",
      "Objective...............:   3.7329694078645645e+00    3.7329694078645645e+00\n",
      "Dual infeasibility......:   1.0414430786244120e-12    1.0414430786244120e-12\n",
      "Constraint violation....:   0.0000000000000000e+00    0.0000000000000000e+00\n",
      "Complementarity.........:   2.5059037256591481e-09    2.5059037256591481e-09\n",
      "Overall NLP error.......:   2.5059037256591481e-09    2.5059037256591481e-09\n",
      "\n",
      "\n",
      "Number of objective function evaluations             = 44\n",
      "Number of objective gradient evaluations             = 24\n",
      "Number of equality constraint evaluations            = 0\n",
      "Number of inequality constraint evaluations          = 44\n",
      "Number of equality constraint Jacobian evaluations   = 0\n",
      "Number of inequality constraint Jacobian evaluations = 39\n",
      "Number of Lagrangian Hessian evaluations             = 37\n",
      "Total CPU secs in IPOPT (w/o function evaluations)   =      0.034\n",
      "Total CPU secs in NLP function evaluations           =      0.196\n",
      "\n",
      "EXIT: Optimal Solution Found.\n",
      "      solver  :   t_proc      (avg)   t_wall      (avg)    n_eval\n",
      "       nlp_f  |   6.50ms (147.73us)   6.55ms (148.82us)        44\n",
      "       nlp_g  |   7.09ms (161.07us)   6.98ms (158.55us)        44\n",
      "  nlp_grad_f  |  12.14ms (485.60us)  11.94ms (477.44us)        25\n",
      "  nlp_hess_l  | 136.01ms (  3.78ms) 137.31ms (  3.81ms)        36\n",
      "   nlp_jac_g  |  37.36ms (934.00us)  37.68ms (941.97us)        40\n",
      "       total  | 239.13ms (239.13ms) 239.68ms (239.68ms)         1\n"
     ]
    }
   ],
   "source": [
    "# Create an NLP solver\n",
    "prob = {'f': J, 'x': vertcat(*w), 'g': vertcat(*g)}\n",
    "solver = nlpsol('solver', 'ipopt', prob)\n",
    "\n",
    "# Solve the NLP\n",
    "sol = solver(x0=w0, lbx=lbw, ubx=ubw, lbg=lbg, ubg=ubg)\n",
    "w_opt = sol['x']"
   ]
  },
  {
   "cell_type": "code",
   "execution_count": 14,
   "metadata": {},
   "outputs": [
    {
     "data": {
      "text/plain": [
       "{'f': DM(3.73297),\n",
       " 'g': DM([-0.25, -0.25, -0.25, -0.25, -0.25, -0.25, -0.213692, -0.148928, -0.0865315, -0.0394501, -0.00992498, 0.00513212, 0.0104556, 0.0103897, 0.00808826, 0.00543888, 0.00330615, 0.00184693, 0.000778207, -0.000429105]),\n",
       " 'lam_g': DM([-2.5311, -2.63512, -1.86981, -1.23141, -0.723886, -0.203928, -6.90177e-08, -2.47931e-08, -1.53296e-08, -1.19017e-08, -1.0438e-08, -9.82196e-09, -9.62121e-09, -9.62364e-09, -9.70946e-09, -9.81016e-09, -9.89276e-09, -9.95008e-09, -9.99248e-09, -1.00408e-08]),\n",
       " 'lam_p': DM([]),\n",
       " 'lam_x': DM([3.19574e-09, 3.61786e-08, 1.63737e-08, 9.77429e-09, 6.47234e-09, 4.47492e-09, 3.79081e-09, 2.80715e-09, 1.67793e-09, 8.80245e-10, 3.68256e-10, 7.00658e-11, -7.39107e-11, -1.18441e-10, -1.09508e-10, -7.9555e-11, -4.7613e-11, -2.25769e-11, -7.07805e-12, -6.17874e-13]),\n",
       " 'x': DM([0.486638, 0.933131, 0.858599, 0.775965, 0.685163, 0.58613, 0.537695, 0.447794, 0.30388, 0.170527, 0.0730852, 0.0139774, -0.0147441, -0.0236193, -0.0218395, -0.0158695, -0.00949931, -0.00450465, -0.00141227, -0.000123284])}"
      ]
     },
     "execution_count": 14,
     "metadata": {},
     "output_type": "execute_result"
    }
   ],
   "source": [
    "sol"
   ]
  },
  {
   "cell_type": "code",
   "execution_count": 37,
   "metadata": {},
   "outputs": [
    {
     "data": {
      "image/png": "[encoded data removed]",
      "text/plain": [
       "<Figure size 432x288 with 1 Axes>"
      ]
     },
     "metadata": {
      "needs_background": "light"
     },
     "output_type": "display_data"
    }
   ],
   "source": [
    "# Plot the solution\n",
    "u_opt = w_opt\n",
    "x_opt = [[0, 1]]\n",
    "for k in range(N):\n",
    "    Fk = F(x0=x_opt[-1], p=u_opt[k])\n",
    "    x_opt += [Fk['xf'].full()]\n",
    "x1_opt = [r[0] for r in x_opt]\n",
    "x2_opt = [r[1] for r in x_opt]\n",
    "\n",
    "tgrid = [T/N*k for k in range(N+1)]\n",
    "import matplotlib.pyplot as plt\n",
    "plt.figure(1)\n",
    "plt.clf()\n",
    "plt.plot(tgrid, x1_opt, '--')\n",
    "plt.plot(tgrid, x2_opt, '-')\n",
    "plt.step(tgrid, vertcat(DM.nan(1), u_opt), '-.')\n",
    "plt.xlabel('t')\n",
    "plt.legend(['x1','x2','u'])\n",
    "plt.grid()\n",
    "plt.show()"
   ]
  },
  {
   "cell_type": "code",
   "execution_count": null,
   "metadata": {},
   "outputs": [],
   "source": []
  }
 ],
 "metadata": {
  "kernelspec": {
   "display_name": "Python 3",
   "language": "python",
   "name": "python3"
  },
  "language_info": {
   "codemirror_mode": {
    "name": "ipython",
    "version": 3
   },
   "file_extension": ".py",
   "mimetype": "text/x-python",
   "name": "python",
   "nbconvert_exporter": "python",
   "pygments_lexer": "ipython3",
   "version": "3.7.6"
  }
 },
 "nbformat": 4,
 "nbformat_minor": 4
}
